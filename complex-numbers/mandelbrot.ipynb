{
 "cells": [
  {
   "cell_type": "markdown",
   "id": "cb28f266-433f-40e0-83ea-b85edd1cba1d",
   "metadata": {},
   "source": [
    "# Mandelbrot Set\n",
    "\n",
    "## Pillow\n",
    "\n",
    "Let's import the Pillow library and abstract away the drawing logic: "
   ]
  },
  {
   "cell_type": "code",
   "execution_count": 1,
   "id": "03509a5d-35e2-488a-a8e2-f3679a0a146b",
   "metadata": {},
   "outputs": [],
   "source": [
    "from typing import NamedTuple\n",
    "from math import log, log2\n",
    "\n",
    "import PIL.Image\n",
    "from PIL.ImageColor import getrgb\n",
    "\n",
    "\n",
    "class Viewport(NamedTuple):\n",
    "    image: PIL.Image.Image\n",
    "    xmin: float\n",
    "    xmax: float\n",
    "\n",
    "    @property\n",
    "    def width(self):\n",
    "        return self.xmax - self.xmin\n",
    "\n",
    "    @property\n",
    "    def height(self):\n",
    "        return self.width * self.aspect_ratio\n",
    "\n",
    "    @property\n",
    "    def aspect_ratio(self):\n",
    "        return self.image.height / self.image.width\n",
    "\n",
    "    @property\n",
    "    def scale(self):\n",
    "        return self.width / self.image.width\n",
    "\n",
    "    def __iter__(self):\n",
    "        for x in range(self.image.width):\n",
    "            for y in range(self.image.height):\n",
    "                yield Pixel(self, x, y)\n",
    "\n",
    "\n",
    "class Pixel(NamedTuple):\n",
    "    viewport: Viewport\n",
    "    x: int\n",
    "    y: int\n",
    "\n",
    "    @property\n",
    "    def image(self):\n",
    "        return self.viewport.image\n",
    "\n",
    "    @property\n",
    "    def color(self):\n",
    "        return self.image.getpixel((self.x, self.y))\n",
    "\n",
    "    @color.setter\n",
    "    def color(self, value):\n",
    "        return self.image.putpixel((self.x, self.y), value)\n",
    "\n",
    "    def __complex__(self):\n",
    "        return complex(\n",
    "            self.viewport.scale * self.x + self.viewport.xmin,\n",
    "            self.viewport.scale * (self.image.height / 2 - self.y),\n",
    "        )\n",
    "\n",
    "\n",
    "def hsb(hue_degrees: int, saturation: float, brightness: float):\n",
    "    \"\"\"Return a tuple of RGB values in 0..255 range.\"\"\"\n",
    "    return getrgb(\n",
    "        f\"hsv({hue_degrees % 360}, {saturation * 100}%, {brightness * 100}%)\"\n",
    "    )"
   ]
  },
  {
   "cell_type": "markdown",
   "id": "21b32367-0fcf-40b0-950a-d5dd4010ef91",
   "metadata": {},
   "source": [
    "## Mandelbrot\n",
    "\n",
    "Here's a class that models the Mandelbrot set:"
   ]
  },
  {
   "cell_type": "code",
   "execution_count": 2,
   "id": "4b8c27d8-fdbc-4918-b0a8-c5dff908bd00",
   "metadata": {},
   "outputs": [],
   "source": [
    "class Mandelbrot(NamedTuple):\n",
    "    \"\"\"The Mandelbrot set.\n",
    "\n",
    "    >>> mandelbrot_set = Mandelbrot(max_iterations=100)\n",
    "    >>> 0.5 + 0.2j in mandelbrot_set\n",
    "    False\n",
    "    >>> mandelbrot_set.escape_count(0.5 + 0.2j)\n",
    "    4\n",
    "    >>> mandelbrot_set.probability(0.5 + 0.2j)\n",
    "    0.04\n",
    "    >>> mandelbrot_set.probability(0.5 + 0.2j, smooth=True)\n",
    "    0.05147130599503858\n",
    "    \"\"\"\n",
    "\n",
    "    max_iterations: int\n",
    "\n",
    "    def __contains__(self, c: complex) -> bool:\n",
    "        \"\"\"Return True if a number belongs to the set.\"\"\"\n",
    "        return self.probability(c) == 1\n",
    "\n",
    "    def probability(self, c: complex, smooth: bool = False) -> float:\n",
    "        \"\"\"Return a fuzzy degree of membership.\"\"\"\n",
    "        return self.escape_count(c, smooth) / self.max_iterations\n",
    "\n",
    "    def escape_count(self, c: complex, smooth: bool = False) -> int:\n",
    "        \"\"\"Return the number of iterations before bailing out.\"\"\"\n",
    "        z = 0j\n",
    "        for i in range(self.max_iterations):\n",
    "            z = z ** 2 + c\n",
    "            if abs(z) >= 2:\n",
    "                return i + 1 - log(log(abs(z))) / log(2) if smooth else i\n",
    "        return self.max_iterations"
   ]
  },
  {
   "cell_type": "markdown",
   "id": "f7919101-c3ff-45fa-8ba8-fa9d716e7a0a",
   "metadata": {},
   "source": [
    "## Drawing the Mandelbrot Set"
   ]
  },
  {
   "cell_type": "code",
   "execution_count": 3,
   "id": "1951c100-efd3-416a-abb5-bb0d5e76a1fd",
   "metadata": {},
   "outputs": [
    {
     "data": {
      "application/vnd.jupyter.widget-view+json": {
       "model_id": "08a29c129c334983a53f20af5bd651b0",
       "version_major": 2,
       "version_minor": 0
      },
      "text/plain": [
       "interactive(children=(Dropdown(description='mode', options=('Black & White', 'Escape Count', 'Escape Count (Sm…"
      ]
     },
     "metadata": {},
     "output_type": "display_data"
    }
   ],
   "source": [
    "from ipywidgets import interact, IntSlider, FloatSlider\n",
    "from IPython.display import display\n",
    "\n",
    "width_px = height_px = 150\n",
    "\n",
    "@interact(\n",
    "    mode=[\"Black & White\", \"Escape Count\", \"Escape Count (Smooth)\", \"Colored (Smooth)\"],\n",
    "    max_iterations=IntSlider(min=1, max=25, value=20),\n",
    "    xmin=FloatSlider(min=-5, max=0, value=-1.75),\n",
    "    xmax=FloatSlider(min=0, max=5, value=0.5)\n",
    ")\n",
    "def draw(mode, max_iterations, xmin, xmax):\n",
    "    \n",
    "    mandelbrot_set = Mandelbrot(max_iterations)\n",
    "    \n",
    "    if mode == \"Black & White\":\n",
    "        image = PIL.Image.new(\"L\", (width_px, height_px), \"#fff\")\n",
    "        for pixel in Viewport(image, xmin, xmax):\n",
    "            if complex(pixel) in mandelbrot_set:\n",
    "                pixel.color = 0\n",
    "    elif mode == \"Escape Count\":\n",
    "        image = PIL.Image.new(\"L\", (width_px, height_px))\n",
    "        for pixel in Viewport(image, xmin=-2.5, xmax=1.5):\n",
    "            probability = mandelbrot_set.probability(complex(pixel))\n",
    "            pixel.color = 255 - int(255 * probability)\n",
    "    elif mode == \"Escape Count (Smooth)\":\n",
    "        image = PIL.Image.new(\"L\", (width_px, height_px))\n",
    "        for pixel in Viewport(image, xmin=-2.5, xmax=1.5):\n",
    "            probability = mandelbrot_set.probability(complex(pixel), smooth=True)\n",
    "            pixel.color = 255 - int(255 * probability)\n",
    "    elif mode == \"Colored (Smooth)\":\n",
    "        image = PIL.Image.new(\"RGB\", (width_px, height_px))\n",
    "        for pixel in Viewport(image, xmin=-2.5, xmax=1.5):\n",
    "            probability = mandelbrot_set.probability(complex(pixel), smooth=True)\n",
    "            pixel.color = hsb(\n",
    "                hue_degrees=int(probability * 360),\n",
    "                saturation=probability,\n",
    "                brightness=1\n",
    "            )\n",
    "    \n",
    "    display(image)"
   ]
  }
 ],
 "metadata": {
  "kernelspec": {
   "display_name": "Python 3",
   "language": "python",
   "name": "python3"
  },
  "language_info": {
   "codemirror_mode": {
    "name": "ipython",
    "version": 3
   },
   "file_extension": ".py",
   "mimetype": "text/x-python",
   "name": "python",
   "nbconvert_exporter": "python",
   "pygments_lexer": "ipython3",
   "version": "3.9.2"
  }
 },
 "nbformat": 4,
 "nbformat_minor": 5
}
